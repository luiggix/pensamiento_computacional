{
 "cells": [
  {
   "cell_type": "markdown",
   "metadata": {},
   "source": [
    "# Estructuras de datos concisas.\n",
    "\n",
    "**Objetivo.**\n",
    "...\n",
    "\n",
    "**Funciones de Python**:\n",
    "...\n",
    "\n",
    " <p xmlns:cc=\"http://creativecommons.org/ns#\" xmlns:dct=\"http://purl.org/dc/terms/\"><a property=\"dct:title\" rel=\"cc:attributionURL\" href=\"https://github.com/repomacti/macti/tree/main/notebooks/Algebra_Lineal_01\">MACTI-Algebra_Lineal_01</a> by <a rel=\"cc:attributionURL dct:creator\" property=\"cc:attributionName\" href=\"https://www.macti.unam.mx\">Luis M. de la Cruz</a> is licensed under <a href=\"http://creativecommons.org/licenses/by-sa/4.0/?ref=chooser-v1\" target=\"_blank\" rel=\"license noopener noreferrer\" style=\"display:inline-block;\">Attribution-ShareAlike 4.0 International<img style=\"height:22px!important;margin-left:3px;vertical-align:text-bottom;\" src=\"https://mirrors.creativecommons.org/presskit/icons/cc.svg?ref=chooser-v1\"><img style=\"height:22px!important;margin-left:3px;vertical-align:text-bottom;\" src=\"https://mirrors.creativecommons.org/presskit/icons/by.svg?ref=chooser-v1\"><img style=\"height:22px!important;margin-left:3px;vertical-align:text-bottom;\" src=\"https://mirrors.creativecommons.org/presskit/icons/sa.svg?ref=chooser-v1\"></a></p> "
   ]
  },
  {
   "cell_type": "markdown",
   "metadata": {},
   "source": [
    "# Listas concisas\n",
    "\n",
    "En matemáticas podemos definir un conjunto como sigue: <br>\n",
    "\n",
    "$$S = \\{x^2 : x \\in (0, 1, 2, \\dots, 9)\\} = \\{0, 1, 4, \\dots, 81\\}$$\n",
    "\n",
    "En Python es posible crear este conjunto usando lo que conoce como  *list comprehensions* (generación corta de listas) como sigue: "
   ]
  },
  {
   "cell_type": "code",
   "execution_count": 1,
   "metadata": {},
   "outputs": [
    {
     "name": "stdout",
     "output_type": "stream",
     "text": [
      "[0, 1, 4, 9, 16, 25, 36, 49, 64, 81]\n"
     ]
    }
   ],
   "source": [
    "S = [x**2 for x in range(10)]\n",
    "print(S)"
   ]
  },
  {
   "cell_type": "markdown",
   "metadata": {},
   "source": [
    "Las listas concisas son usadas para construir listas de una manera muy corta, natural y fácil, como lo hace un matemático. La forma precisa de construir listas concisas es como sigue:\n",
    "\n",
    "```python\n",
    "[ expresion for i in S if predicado ]\n",
    "```\n",
    "\n",
    "Donde `expresion` es una expresión que se va a aplicar a cada elemento `i` de la secuencia `S`; opcionalmente, es posible aplicar el `predicado` antes de aplicar la `expresion` a cada elemento `i`.\n",
    "\n",
    "\n"
   ]
  },
  {
   "cell_type": "markdown",
   "metadata": {},
   "source": [
    "<div class=\"alert alert-success\">\n",
    "\n",
    "## Ejemplo 1.\n",
    "    \n",
    "Usando listas concisas, crear el siguiente conjunto:\n",
    "\n",
    "$$\n",
    "M = \\{\\sqrt{x} : x \\in (1,2,3,4,5,6,7,8,9,10) \\;\\; \\text{y} \\;\\; x \\;\\; \\text{es par}\\} = \\{ \\sqrt{2}, \\sqrt{4}, \\sqrt{6}, \\sqrt{8}, \\sqrt{10}) \\}\n",
    "$$\n",
    "\n",
    "</div>"
   ]
  },
  {
   "cell_type": "code",
   "execution_count": 3,
   "metadata": {},
   "outputs": [
    {
     "name": "stdout",
     "output_type": "stream",
     "text": [
      "[1.4142135623730951, 2.0, 2.449489742783178, 2.8284271247461903, 3.1622776601683795]\n"
     ]
    }
   ],
   "source": [
    "from math import sqrt\n",
    "\n",
    "M = [sqrt(x) for x in range(1,11) if x % 2 == 0]\n",
    "print(M)"
   ]
  },
  {
   "cell_type": "markdown",
   "metadata": {},
   "source": [
    "En el ejemplo anterior se distingue lo siguiente:\n",
    "\n",
    "1. La secuencia de entrada: `range(1,11)` (`[1, 2, 3, 4, 5, 6, 7, 8, 9, 10]`).\n",
    "\n",
    "2. La etiqueta `i` que representa los miembros de la secuencia de entrada.\n",
    "\n",
    "3. La expresión de predicado: `if x % 2 == 0`.\n",
    "    \n",
    "4. La expresión de salida `sqrt(x)` que produce los elementos de la lista resultado, los cuales provienen de los miembros de la secuencia de entrada que satisfacen el predicado."
   ]
  },
  {
   "cell_type": "markdown",
   "metadata": {},
   "source": [
    "<div class=\"alert alert-success\">\n",
    "\n",
    "## Ejemplo 2.\n",
    "    \n",
    "Obtener todos los enteros de la siguiente lista, elevarlos al cuadrado y poner el resultado en una lista:<br>\n",
    "\n",
    "```python\n",
    "    lista = [1,'4',9,'luiggi',0,4,('mike','dela+')]\n",
    "```\n",
    "\n",
    "</div>"
   ]
  },
  {
   "cell_type": "code",
   "execution_count": 4,
   "metadata": {},
   "outputs": [],
   "source": [
    "lista = [1,'4',9,'luiggi',0,4,('mike','dela+')]"
   ]
  },
  {
   "cell_type": "code",
   "execution_count": 5,
   "metadata": {},
   "outputs": [
    {
     "name": "stdout",
     "output_type": "stream",
     "text": [
      "[1, 81, 0, 16]\n"
     ]
    }
   ],
   "source": [
    "resultado = [x**2 for x in lista if isinstance(x, int)]\n",
    "print( resultado )"
   ]
  },
  {
   "cell_type": "markdown",
   "metadata": {},
   "source": [
    "<div class=\"alert alert-success\">\n",
    "\n",
    "## Ejemplo 3.\n",
    "    \n",
    "Crear la siguiente lista:\n",
    "$$V = (2^0,2^1,2^2, \\dots, 2^{12}) = (1, 2, 4, 8, \\dots, 4096) $$\n",
    "\n",
    "</div>\n"
   ]
  },
  {
   "cell_type": "code",
   "execution_count": 6,
   "metadata": {},
   "outputs": [
    {
     "data": {
      "text/plain": [
       "[1, 2, 4, 8, 16, 32, 64, 128, 256, 512, 1024, 2048, 4096]"
      ]
     },
     "execution_count": 6,
     "metadata": {},
     "output_type": "execute_result"
    }
   ],
   "source": [
    "[2**x for x in range(13)]"
   ]
  },
  {
   "cell_type": "markdown",
   "metadata": {},
   "source": [
    "<div class=\"alert alert-success\">\n",
    "\n",
    "## Ejemplo 4.\n",
    "    \n",
    "Transformar grados Celsius en Fahrenheit y vieceversa.\n",
    "</div>"
   ]
  },
  {
   "cell_type": "markdown",
   "metadata": {},
   "source": [
    "**Celsius $\\to$ Fahrenheit**"
   ]
  },
  {
   "cell_type": "code",
   "execution_count": 7,
   "metadata": {},
   "outputs": [
    {
     "name": "stdout",
     "output_type": "stream",
     "text": [
      "[32.0, 72.5, 104.0, 212.0]\n"
     ]
    }
   ],
   "source": [
    "c = [0, 22.5, 40,100]\n",
    "f = [(9/5)*t + 32 for t in c]\n",
    "print(f)"
   ]
  },
  {
   "cell_type": "markdown",
   "metadata": {},
   "source": [
    "**Fahrenheit $\\to$ Celsius**"
   ]
  },
  {
   "cell_type": "code",
   "execution_count": 8,
   "metadata": {},
   "outputs": [
    {
     "name": "stdout",
     "output_type": "stream",
     "text": [
      "[0.0, 22.5, 40.0, 100.0]\n"
     ]
    }
   ],
   "source": [
    "cn = [(5/9)*(t - 32) for t in f]\n",
    "print(cn)"
   ]
  },
  {
   "cell_type": "markdown",
   "metadata": {},
   "source": [
    "Observa que en ambos ejemplos la expresión es la fórmula de conversión entre grados."
   ]
  },
  {
   "cell_type": "markdown",
   "metadata": {},
   "source": [
    "# Anidado de listas concisas."
   ]
  },
  {
   "cell_type": "markdown",
   "metadata": {},
   "source": [
    "<div class=\"alert alert-success\">\n",
    "\n",
    "## Ejemplo 5.\n",
    "    \n",
    "Crear la siguiente lista:\n",
    "\n",
    "$$M = \\{\\sqrt{x} \\, |\\, x \\in S \\text{ y } x \\text{ impar }\\}$$\n",
    "\n",
    "con \n",
    "\n",
    "$$S = \\{x^2 : x \\in (0 \\dots 9)\\} = \\{0, 1, 4, \\dots, 81\\}$$\n",
    "\n",
    "</div>"
   ]
  },
  {
   "cell_type": "markdown",
   "metadata": {},
   "source": [
    "Este ejemplo se puede realizar como sigue:"
   ]
  },
  {
   "cell_type": "code",
   "execution_count": 9,
   "metadata": {},
   "outputs": [
    {
     "name": "stdout",
     "output_type": "stream",
     "text": [
      "S = [0, 1, 4, 9, 16, 25, 36, 49, 64, 81]\n",
      "M = [1.0, 3.0, 5.0, 7.0, 9.0]\n"
     ]
    }
   ],
   "source": [
    "S = [x**2 for x in range(0,10)]\n",
    "M = [sqrt(x) for x in S if x % 2]\n",
    "print('S = {}'.format(S))\n",
    "print('M = {}'.format(M))"
   ]
  },
  {
   "cell_type": "markdown",
   "metadata": {},
   "source": [
    "Sin embargo, es posible anidar las listas concisas como sigue:"
   ]
  },
  {
   "cell_type": "code",
   "execution_count": 11,
   "metadata": {},
   "outputs": [
    {
     "name": "stdout",
     "output_type": "stream",
     "text": [
      "M = [1.0, 3.0, 5.0, 7.0, 9.0]\n"
     ]
    }
   ],
   "source": [
    "M = [sqrt(x) for x in [x**2 for x in range(0,10)] if x % 2]\n",
    "print('M = {}'.format(M))"
   ]
  },
  {
   "cell_type": "markdown",
   "metadata": {},
   "source": [
    "\n",
    "<div class=\"alert alert-success\">\n",
    "\n",
    "## Ejemplo 6.\n",
    "\n",
    "Sea una matriz identidad de tamaño $n \\times n$ :<br>\n",
    "\n",
    "$$\n",
    "\\left[\n",
    "\\begin{matrix}\n",
    "1 & 0 & 0 & \\dots & 0 \\\\\n",
    "0 & 1 & 0 & \\dots & 0 \\\\\n",
    "0 & 0 & 1 & \\dots & 0 \\\\\n",
    "\\vdots&\\vdots&\\vdots&\\ddots&\\vdots \\\\\n",
    "0 & 0 & 0 & \\dots & 1 \\\\\n",
    "\\end{matrix}\n",
    "\\right]\n",
    "$$\n",
    "\n",
    "En Python esta matriz se puede representar por la siguiente lista: <br>\n",
    "\n",
    "```python\n",
    "[[1,0,0, ... , 0],\n",
    " [0,1,0, ... , 0],\n",
    " [0,0,1, ... , 0],\n",
    " ................,     \n",
    " [0,0,0, ... , 1]]\n",
    "```\n",
    "\n",
    "- Usando *list comprehensions* anidados se puede obtener dicha lista: <br>\n",
    "\n",
    "</div>"
   ]
  },
  {
   "cell_type": "code",
   "execution_count": 12,
   "metadata": {},
   "outputs": [
    {
     "data": {
      "text/plain": [
       "[[1, 0, 0, 0, 0, 0, 0, 0],\n",
       " [0, 1, 0, 0, 0, 0, 0, 0],\n",
       " [0, 0, 1, 0, 0, 0, 0, 0],\n",
       " [0, 0, 0, 1, 0, 0, 0, 0],\n",
       " [0, 0, 0, 0, 1, 0, 0, 0],\n",
       " [0, 0, 0, 0, 0, 1, 0, 0],\n",
       " [0, 0, 0, 0, 0, 0, 1, 0],\n",
       " [0, 0, 0, 0, 0, 0, 0, 1]]"
      ]
     },
     "execution_count": 12,
     "metadata": {},
     "output_type": "execute_result"
    }
   ],
   "source": [
    "n = 8\n",
    "[[1 if col == row else 0 for col in range(0,n)] for row in range(0,n)]"
   ]
  },
  {
   "cell_type": "markdown",
   "metadata": {},
   "source": [
    "Observa que en este caso la expresión de salida es una lista concisa: \n",
    "* `[1 if col == row else 0 for col in range(0,n)]` .\n",
    "\n",
    "Además, la expresión de salida de esta última lista concisa es el operador ternario:\n",
    "* `1 if col == row else 0`"
   ]
  },
  {
   "cell_type": "markdown",
   "metadata": {},
   "source": [
    "<div class=\"alert alert-success\">\n",
    "\n",
    "## Ejemplo 7.\n",
    "    \n",
    "Calcular números primos en el rango `[2,50]`.\n",
    "</div>\n"
   ]
  },
  {
   "cell_type": "markdown",
   "metadata": {},
   "source": [
    "En este ejercicio se usa el algoritmo conocido como criba de Eratóstenes. Primero se encuentran todos aquellos números que tengan algún múltiplo. En este caso solo vamos a buscar en el intervalo $[2,50]$. \n",
    "\n",
    "La siguiente lista concisa calcula los múltiplos de `i` (prueba cambiando el valor de `i` a $2,3,4,5,6,7$ y observa el resultado):"
   ]
  },
  {
   "cell_type": "code",
   "execution_count": 17,
   "metadata": {},
   "outputs": [
    {
     "data": {
      "text/plain": [
       "[6, 9, 12, 15, 18, 21, 24, 27, 30, 33, 36, 39, 42, 45, 48]"
      ]
     },
     "execution_count": 17,
     "metadata": {},
     "output_type": "execute_result"
    }
   ],
   "source": [
    "i = 3\n",
    "[j for j in range(i*2, 50, i)]"
   ]
  },
  {
   "cell_type": "markdown",
   "metadata": {},
   "source": [
    "Ahora, para variar el valor de `i` en el conjunto $\\{2,3,4,5,6,7\\}$ con una lista concisa se puede hacer lo siguiente:"
   ]
  },
  {
   "cell_type": "code",
   "execution_count": 19,
   "metadata": {},
   "outputs": [
    {
     "data": {
      "text/plain": [
       "[2, 3, 4, 5, 6, 7]"
      ]
     },
     "execution_count": 19,
     "metadata": {},
     "output_type": "execute_result"
    }
   ],
   "source": [
    "[i for i in range(2,8)]"
   ]
  },
  {
   "cell_type": "markdown",
   "metadata": {},
   "source": [
    "Usando las dos listas concisas creadas antes, generamos todos aquellos números en el intervalo $[2,50]$ que tienen al menos un múltiplo (y que por lo tanto no son primos)"
   ]
  },
  {
   "cell_type": "code",
   "execution_count": 20,
   "metadata": {},
   "outputs": [
    {
     "name": "stdout",
     "output_type": "stream",
     "text": [
      "NO primos: \n",
      "[4, 6, 8, 10, 12, 14, 16, 18, 20, 22, 24, 26, 28, 30, 32, 34, 36, 38, 40, 42, 44, 46, 48, 6, 9, 12, 15, 18, 21, 24, 27, 30, 33, 36, 39, 42, 45, 48, 8, 12, 16, 20, 24, 28, 32, 36, 40, 44, 48, 10, 15, 20, 25, 30, 35, 40, 45, 12, 18, 24, 30, 36, 42, 48, 14, 21, 28, 35, 42, 49]\n"
     ]
    }
   ],
   "source": [
    "noprimos = [j for i in range(2,8) for j in range(i*2, 50, i)]\n",
    "print('NO primos: \\n{}'.format(noprimos))"
   ]
  },
  {
   "cell_type": "markdown",
   "metadata": {},
   "source": [
    "Para encontrar los primos usamos una lista concisa verificando los números que faltan en la lista de `noprimos`, esos serán los números primos que estamos buscando:"
   ]
  },
  {
   "cell_type": "code",
   "execution_count": 21,
   "metadata": {},
   "outputs": [
    {
     "name": "stdout",
     "output_type": "stream",
     "text": [
      "Primos: \n",
      "[2, 3, 5, 7, 11, 13, 17, 19, 23, 29, 31, 37, 41, 43, 47]\n"
     ]
    }
   ],
   "source": [
    "primos = [x for x in range(2,50) if x not in noprimos]\n",
    "print('Primos: \\n{}'.format(primos))"
   ]
  },
  {
   "cell_type": "markdown",
   "metadata": {},
   "source": [
    "**Juntando todo**:"
   ]
  },
  {
   "cell_type": "code",
   "execution_count": 22,
   "metadata": {},
   "outputs": [
    {
     "data": {
      "text/plain": [
       "[2, 3, 5, 7, 11, 13, 17, 19, 23, 29, 31, 37, 41, 43, 47]"
      ]
     },
     "execution_count": 22,
     "metadata": {},
     "output_type": "execute_result"
    }
   ],
   "source": [
    "[x for x in range(2,50) if x not in [j for i in range(2,8) for j in range(i*2, 50, i)]]"
   ]
  },
  {
   "cell_type": "markdown",
   "metadata": {},
   "source": [
    "## Listas concisas con elementos no numéricos.\n",
    "Las listas también pueden contener otro tipo de elementos, no solo números. Por ejemplo:"
   ]
  },
  {
   "cell_type": "code",
   "execution_count": 23,
   "metadata": {},
   "outputs": [],
   "source": [
    "mensaje = 'La vida no es la que uno vivió, sino la que uno recuerda'"
   ]
  },
  {
   "cell_type": "code",
   "execution_count": 24,
   "metadata": {},
   "outputs": [
    {
     "name": "stdout",
     "output_type": "stream",
     "text": [
      "La vida no es la que uno vivió, sino la que uno recuerda\n"
     ]
    }
   ],
   "source": [
    "print(mensaje)"
   ]
  },
  {
   "cell_type": "code",
   "execution_count": 25,
   "metadata": {},
   "outputs": [
    {
     "name": "stdout",
     "output_type": "stream",
     "text": [
      "['La', 'vida', 'no', 'es', 'la', 'que', 'uno', 'vivió,', 'sino', 'la', 'que', 'uno', 'recuerda']"
     ]
    }
   ],
   "source": [
    "palabras = mensaje.split()\n",
    "print(palabras,end='')"
   ]
  },
  {
   "cell_type": "markdown",
   "metadata": {},
   "source": [
    "Vamos a crear una lista cuyos elementos contienen cada palabra de la lista anterior en mayúsculas, en forma de título y su longitud, estos tres elementos agregados en una tupla:"
   ]
  },
  {
   "cell_type": "code",
   "execution_count": 26,
   "metadata": {},
   "outputs": [
    {
     "name": "stdout",
     "output_type": "stream",
     "text": [
      "[('LA', 'La', 2), ('VIDA', 'Vida', 4), ('NO', 'No', 2), ('ES', 'Es', 2), ('LA', 'La', 2), ('QUE', 'Que', 3), ('UNO', 'Uno', 3), ('VIVIÓ,', 'Vivió,', 6), ('SINO', 'Sino', 4), ('LA', 'La', 2), ('QUE', 'Que', 3), ('UNO', 'Uno', 3), ('RECUERDA', 'Recuerda', 8)]\n"
     ]
    }
   ],
   "source": [
    "tabla = [(w.upper(), w.title(), len(w)) for w in palabras]\n",
    "print(tabla)"
   ]
  },
  {
   "cell_type": "markdown",
   "metadata": {},
   "source": [
    "# Conjuntos concisos\n",
    "\n",
    "Al igual que las listas concisas, también es posible crear conjuntos usando los mismos principios , la única diferencia es que la secuencia que resulta es un objeto de tipo`set`. <br>\n",
    "\n",
    "**Definición**.\n",
    "\n",
    "```python\n",
    "{expression(variable) for variable in input_set [predicate][, …]}\n",
    "```\n",
    "\n",
    "1. `expression` : Es una expresión **opcional** de salida que produce los miembros del nuevo conjunto a partir de los miembros del conjunto de entrada que satisfacen el `predicate`. <br>\n",
    "\n",
    "2. `variable` : Es una variable **requerida** que representa los miembros del conjunto de entrada. <br>\n",
    "\n",
    "3. `input_set`: Representa la secuencia de entrada. (**requerido**). <br>\n",
    "\n",
    "4. `predicate` : Expresión **opcional** que actúa como un filtro sobre los miembros del conjunto de entrada. <br>\n",
    "\n",
    "5. `[, …]]` : Otra *comprehension* anidada **opcional**.\n"
   ]
  },
  {
   "cell_type": "markdown",
   "metadata": {},
   "source": [
    "<div class=\"alert alert-success\">\n",
    "\n",
    "## Ejemplo 8.\n",
    "    \n",
    "Supongamos que deseamos organizar una lista de nombres de tal manera que no haya repeticiones, que los nombres tengan más de un caracter y que su representación sea con la primera letra mayúscula y las demás minúsculas. Por ejemplo, una lista aceptable sería:\n",
    "\n",
    "```python\n",
    "nombres = ['Luis', 'Juan', 'Angie', 'Pedro', 'María', 'Diana']\n",
    "```\n",
    "\n",
    "* Leer una lista de nombres del archivo `nombres` y procesarlos para obtener una lista similar a la descrita. \n",
    "\n",
    "</div>"
   ]
  },
  {
   "cell_type": "code",
   "execution_count": 29,
   "metadata": {},
   "outputs": [
    {
     "name": "stdout",
     "output_type": "stream",
     "text": [
      "['A', 'LuCas', 'Sidronio', 'Michelle', 'a', 'ANGIE', 'Luis', 'lucas', 'MICHelle', 'PedrO', 'PEPE', 'Manu', 'luis', 'diana', 'sidronio', 'pepe', 'a', 'a', 'b']\n"
     ]
    }
   ],
   "source": [
    "# Abrimos el archivo en modo lectura\n",
    "archivo = open('../datos/nombres','r')\n",
    "\n",
    "# Leemos la lista de nombres y los ponemos en una lista\n",
    "lista_nombres = archivo.read().split()\n",
    "\n",
    "# Vemos la lista de nombres\n",
    "print(lista_nombres)"
   ]
  },
  {
   "cell_type": "code",
   "execution_count": 30,
   "metadata": {},
   "outputs": [
    {
     "name": "stdout",
     "output_type": "stream",
     "text": [
      "{'Lucas', 'Manu', 'Luis', 'Sidronio', 'Pedro', 'Angie', 'Pepe', 'Diana', 'Michelle'}\n"
     ]
    }
   ],
   "source": [
    "# Procesamos las palabras como se requiere\n",
    "nombres_set = {nombre[0].upper() + nombre[1:].lower() \n",
    "               for nombre in lista_nombres \n",
    "               if len(nombre) > 1 }\n",
    "print(nombres_set)"
   ]
  },
  {
   "cell_type": "code",
   "execution_count": 31,
   "metadata": {},
   "outputs": [
    {
     "name": "stdout",
     "output_type": "stream",
     "text": [
      "['Lucas', 'Manu', 'Luis', 'Sidronio', 'Pedro', 'Angie', 'Pepe', 'Diana', 'Michelle']\n"
     ]
    }
   ],
   "source": [
    "# Transformamos el conjunto a una lista\n",
    "nombres = list(nombres_set)\n",
    "print(nombres)"
   ]
  },
  {
   "cell_type": "markdown",
   "metadata": {},
   "source": [
    "<div class=\"alert alert-success\">\n",
    "\n",
    "## Ejemplo 9.\n",
    "    \n",
    "Observa los siguientes ejemplos de conjuntos concisos y explica su funcionamiento.\n",
    "\n",
    "</div>\n"
   ]
  },
  {
   "cell_type": "code",
   "execution_count": 32,
   "metadata": {},
   "outputs": [
    {
     "data": {
      "text/plain": [
       "{0, 1, 2}"
      ]
     },
     "execution_count": 32,
     "metadata": {},
     "output_type": "execute_result"
    }
   ],
   "source": [
    "{s for s in [1, 2, 1, 0]}"
   ]
  },
  {
   "cell_type": "code",
   "execution_count": 33,
   "metadata": {},
   "outputs": [
    {
     "data": {
      "text/plain": [
       "{0, 1, 4}"
      ]
     },
     "execution_count": 33,
     "metadata": {},
     "output_type": "execute_result"
    }
   ],
   "source": [
    "{s**2 for s in [1, 2, 1, 0]}"
   ]
  },
  {
   "cell_type": "code",
   "execution_count": 34,
   "metadata": {},
   "outputs": [
    {
     "data": {
      "text/plain": [
       "{0, 1, 4, 9, 16, 25, 36, 49, 64, 81}"
      ]
     },
     "execution_count": 34,
     "metadata": {},
     "output_type": "execute_result"
    }
   ],
   "source": [
    "{s**2 for s in range(10)}"
   ]
  },
  {
   "cell_type": "code",
   "execution_count": 35,
   "metadata": {},
   "outputs": [
    {
     "data": {
      "text/plain": [
       "{1, 3, 5, 7, 9}"
      ]
     },
     "execution_count": 35,
     "metadata": {},
     "output_type": "execute_result"
    }
   ],
   "source": [
    "{s for s in range(10) if s % 2}"
   ]
  },
  {
   "cell_type": "code",
   "execution_count": 36,
   "metadata": {},
   "outputs": [
    {
     "data": {
      "text/plain": [
       "{(3, 0), (3, 1), (4, 0), (4, 1)}"
      ]
     },
     "execution_count": 36,
     "metadata": {},
     "output_type": "execute_result"
    }
   ],
   "source": [
    "{(m, n) for n in range(2) for m in range(3, 5)}"
   ]
  },
  {
   "cell_type": "markdown",
   "metadata": {},
   "source": [
    "# Diccionarios concisos\n",
    "\n",
    "- Similar a las listas y conjuntos concisos, es posible crear un diccionario de manera concisa.\n",
    "  \n",
    "- Permite transformar un diccionario en otro diccionario.\n",
    "\n",
    "- Durante esta transformación, los objetos dentro del diccionario original pueden ser incluidos o no en el nuevo diccionario dependiendo de una condición. \n",
    "\n",
    "- Cada objeto en el nuevo diccionario puede ser transformado como sea requerido.\n",
    "\n",
    "**Definición**.\n",
    "\n",
    "```python\n",
    "{__:__ for x in secuencia if condición}\n",
    "```\n",
    "\n",
    "```python\n",
    "{key:value for (key,value) in dictonary.items() if condición}\n",
    "```"
   ]
  },
  {
   "cell_type": "code",
   "execution_count": 52,
   "metadata": {},
   "outputs": [
    {
     "data": {
      "text/plain": [
       "{'0': 0, '1': 1, '2': 2, '3': 3, '4': 4}"
      ]
     },
     "execution_count": 52,
     "metadata": {},
     "output_type": "execute_result"
    }
   ],
   "source": [
    "{str(x):x for x in range(0,5)}"
   ]
  },
  {
   "cell_type": "code",
   "execution_count": 53,
   "metadata": {},
   "outputs": [
    {
     "data": {
      "text/plain": [
       "{'1': 1, '3': 3, '5': 5, '7': 7, '9': 9}"
      ]
     },
     "execution_count": 53,
     "metadata": {},
     "output_type": "execute_result"
    }
   ],
   "source": [
    "{str(x):x for x in range(0,10) if x % 2}"
   ]
  },
  {
   "cell_type": "code",
   "execution_count": 55,
   "metadata": {},
   "outputs": [
    {
     "data": {
      "text/plain": [
       "{'0': 0, '2': 2, '4': 4, '6': 6, '8': 8}"
      ]
     },
     "execution_count": 55,
     "metadata": {},
     "output_type": "execute_result"
    }
   ],
   "source": [
    "{str(x):x for x in range(0,10) if not x % 2}"
   ]
  },
  {
   "cell_type": "markdown",
   "metadata": {},
   "source": [
    "<div class=\"alert alert-success\">\n",
    "\n",
    "## Ejemplo 10.\n",
    "    \n",
    "Duplicar el valor (*value*) de cada entrada (*item*) de un diccionario:\n",
    "\n",
    "</div>\n"
   ]
  },
  {
   "cell_type": "markdown",
   "metadata": {},
   "source": [
    "Recuerda como funcionan los diccionarios:"
   ]
  },
  {
   "cell_type": "code",
   "execution_count": null,
   "metadata": {},
   "outputs": [],
   "source": [
    "dicc = {'a': 1, 'b': 2, 'c': 3, 'd': 4}\n",
    "print(dicc.keys())   # Función para obtener las claves\n",
    "print(dicc.values()) # Función para obtener los valores\n",
    "print(dicc.items())  # Función para obtener los items"
   ]
  },
  {
   "cell_type": "markdown",
   "metadata": {},
   "source": [
    "Para crear el diccionario del ejemplo hacemos lo siguiente:"
   ]
  },
  {
   "cell_type": "code",
   "execution_count": 56,
   "metadata": {},
   "outputs": [
    {
     "name": "stdout",
     "output_type": "stream",
     "text": [
      "{'a': 1, 'b': 2, 'c': 3, 'd': 4, 'e': 5}\n",
      "{'a': 2, 'b': 4, 'c': 6, 'd': 8, 'e': 10}\n"
     ]
    }
   ],
   "source": [
    "# Definición del diccionario\n",
    "dicc = {'a': 1, 'b': 2, 'c': 3, 'd': 4, 'e': 5}\n",
    "\n",
    "# Duplicación de los valores del diccionario\n",
    "dicc_doble = {k:v*2 for (k,v) in dicc.items()}\n",
    "\n",
    "# Mostramos el resultado\n",
    "print(dicc)\n",
    "print(dicc_doble)"
   ]
  },
  {
   "cell_type": "markdown",
   "metadata": {},
   "source": [
    "<div class=\"alert alert-success\">\n",
    "\n",
    "## Ejemplo 11.\n",
    "    \n",
    "Duplicar la clave (*key*) de cada entrada (*item*) del diccionario `dicc` del ejemplo anterior:\n",
    "\n",
    "</div>\n"
   ]
  },
  {
   "cell_type": "code",
   "execution_count": 59,
   "metadata": {},
   "outputs": [
    {
     "name": "stdout",
     "output_type": "stream",
     "text": [
      "{'aa': 1, 'bb': 2, 'cc': 3, 'dd': 4, 'ee': 5}\n"
     ]
    }
   ],
   "source": [
    "dict1_keys = {k*2:v for (k,v) in dicc.items()}\n",
    "print(dict1_keys)"
   ]
  },
  {
   "cell_type": "markdown",
   "metadata": {},
   "source": [
    "<div class=\"alert alert-success\">\n",
    "\n",
    "## Ejemplo 12.\n",
    "    \n",
    "Crear un diccionario donde la clave sea un número divisible por 2 en un rango de 0 a 10 y sus valores sean el cuadrado de la clave.\n",
    "</div>\n"
   ]
  },
  {
   "cell_type": "code",
   "execution_count": 62,
   "metadata": {},
   "outputs": [
    {
     "name": "stdout",
     "output_type": "stream",
     "text": [
      "{0: 0, 2: 4, 4: 16, 6: 36, 8: 64, 10: 100}\n"
     ]
    }
   ],
   "source": [
    "# La forma tradicional\n",
    "dicc = {}\n",
    "\n",
    "for n in range(11):\n",
    "    if n%2==0:\n",
    "        dicc[n] = n**2\n",
    "\n",
    "print(dicc)"
   ]
  },
  {
   "cell_type": "code",
   "execution_count": 63,
   "metadata": {},
   "outputs": [
    {
     "name": "stdout",
     "output_type": "stream",
     "text": [
      "{0: 0, 2: 4, 4: 16, 6: 36, 8: 64, 10: 100}\n"
     ]
    }
   ],
   "source": [
    "# Usando dict comprehensions\n",
    "dicc_smart = {n:n**2 for n in range(11) if n%2 == 0}\n",
    "\n",
    "print(dicc_smart)"
   ]
  },
  {
   "cell_type": "markdown",
   "metadata": {},
   "source": [
    "<div class=\"alert alert-success\">\n",
    "\n",
    "## Ejemplo 13.\n",
    "    \n",
    "Intercambiar las claves y los valores en un diccionario.\n",
    "</div>\n"
   ]
  },
  {
   "cell_type": "code",
   "execution_count": 67,
   "metadata": {},
   "outputs": [
    {
     "name": "stdout",
     "output_type": "stream",
     "text": [
      "{'a': 1, 'b': 2, 'c': 3}\n"
     ]
    },
    {
     "data": {
      "text/plain": [
       "{1: 'a', 2: 'b', 3: 'c'}"
      ]
     },
     "execution_count": 67,
     "metadata": {},
     "output_type": "execute_result"
    }
   ],
   "source": [
    "a_dict = {'a': 1, 'b': 2, 'c': 3}\n",
    "print(a_dict)\n",
    "\n",
    "{value:key for key, value in a_dict.items()}"
   ]
  },
  {
   "cell_type": "code",
   "execution_count": 68,
   "metadata": {},
   "outputs": [
    {
     "ename": "TypeError",
     "evalue": "unhashable type: 'list'",
     "output_type": "error",
     "traceback": [
      "\u001b[0;31m---------------------------------------------------------------------------\u001b[0m",
      "\u001b[0;31mTypeError\u001b[0m                                 Traceback (most recent call last)",
      "Cell \u001b[0;32mIn[68], line 3\u001b[0m\n\u001b[1;32m      1\u001b[0m \u001b[38;5;66;03m# OJO: No siempre es posible hacer lo anterior.\u001b[39;00m\n\u001b[1;32m      2\u001b[0m a_dict \u001b[38;5;241m=\u001b[39m {\u001b[38;5;124m'\u001b[39m\u001b[38;5;124ma\u001b[39m\u001b[38;5;124m'\u001b[39m: [\u001b[38;5;241m1\u001b[39m, \u001b[38;5;241m2\u001b[39m, \u001b[38;5;241m3\u001b[39m], \u001b[38;5;124m'\u001b[39m\u001b[38;5;124mb\u001b[39m\u001b[38;5;124m'\u001b[39m: \u001b[38;5;241m4\u001b[39m, \u001b[38;5;124m'\u001b[39m\u001b[38;5;124mc\u001b[39m\u001b[38;5;124m'\u001b[39m: \u001b[38;5;241m5\u001b[39m}\n\u001b[0;32m----> 3\u001b[0m \u001b[43m{\u001b[49m\u001b[43mvalue\u001b[49m\u001b[43m:\u001b[49m\u001b[43mkey\u001b[49m\u001b[43m \u001b[49m\u001b[38;5;28;43;01mfor\u001b[39;49;00m\u001b[43m \u001b[49m\u001b[43mkey\u001b[49m\u001b[43m,\u001b[49m\u001b[43m \u001b[49m\u001b[43mvalue\u001b[49m\u001b[43m \u001b[49m\u001b[38;5;129;43;01min\u001b[39;49;00m\u001b[43m \u001b[49m\u001b[43ma_dict\u001b[49m\u001b[38;5;241;43m.\u001b[39;49m\u001b[43mitems\u001b[49m\u001b[43m(\u001b[49m\u001b[43m)\u001b[49m\u001b[43m}\u001b[49m\n",
      "Cell \u001b[0;32mIn[68], line 3\u001b[0m, in \u001b[0;36m<dictcomp>\u001b[0;34m(.0)\u001b[0m\n\u001b[1;32m      1\u001b[0m \u001b[38;5;66;03m# OJO: No siempre es posible hacer lo anterior.\u001b[39;00m\n\u001b[1;32m      2\u001b[0m a_dict \u001b[38;5;241m=\u001b[39m {\u001b[38;5;124m'\u001b[39m\u001b[38;5;124ma\u001b[39m\u001b[38;5;124m'\u001b[39m: [\u001b[38;5;241m1\u001b[39m, \u001b[38;5;241m2\u001b[39m, \u001b[38;5;241m3\u001b[39m], \u001b[38;5;124m'\u001b[39m\u001b[38;5;124mb\u001b[39m\u001b[38;5;124m'\u001b[39m: \u001b[38;5;241m4\u001b[39m, \u001b[38;5;124m'\u001b[39m\u001b[38;5;124mc\u001b[39m\u001b[38;5;124m'\u001b[39m: \u001b[38;5;241m5\u001b[39m}\n\u001b[0;32m----> 3\u001b[0m {value:key \u001b[38;5;28;01mfor\u001b[39;00m key, value \u001b[38;5;129;01min\u001b[39;00m a_dict\u001b[38;5;241m.\u001b[39mitems()}\n",
      "\u001b[0;31mTypeError\u001b[0m: unhashable type: 'list'"
     ]
    }
   ],
   "source": [
    "# OJO: No siempre es posible hacer lo anterior.\n",
    "a_dict = {'a': [1, 2, 3], 'b': 4, 'c': 5}\n",
    "{value:key for key, value in a_dict.items()}"
   ]
  },
  {
   "cell_type": "markdown",
   "metadata": {},
   "source": [
    "<div class=\"alert alert-success\">\n",
    "\n",
    "## Ejemplo 14.\n",
    "    \n",
    "Convertir la siguiente lista de grados Fahrenheit $[32.0, 72.5, 104.0, 212.0]$ a Celsius.\n",
    "</div>"
   ]
  },
  {
   "cell_type": "code",
   "execution_count": 74,
   "metadata": {},
   "outputs": [
    {
     "name": "stdout",
     "output_type": "stream",
     "text": [
      "{'t1': 32.0, 't2': 72.5, 't3': 104.0, 't4': 212.0}\n",
      "{'t1': 0.0, 't2': 22.5, 't3': 40.0, 't4': 100.0}\n"
     ]
    }
   ],
   "source": [
    "# Usando map, lambda y diccionarios\n",
    "fahrenheit_dict = {'t1':32.0, 't2':72.5, 't3':104.0, 't4':212.0}\n",
    "\n",
    "celsius = list(map(lambda f: (5/9)*(f-32), fahrenheit_dict.values()))\n",
    "\n",
    "celsius_dict = dict(zip(fahrenheit_dict.keys(), celsius))\n",
    "\n",
    "print(fahrenheit_dict)\n",
    "print(celsius_dict)"
   ]
  },
  {
   "cell_type": "code",
   "execution_count": 75,
   "metadata": {},
   "outputs": [
    {
     "name": "stdout",
     "output_type": "stream",
     "text": [
      "{'t1': 32.0, 't2': 72.5, 't3': 104.0, 't4': 212.0}\n",
      "{'t1': 0.0, 't2': 22.5, 't3': 40.0, 't4': 100.0}\n"
     ]
    }
   ],
   "source": [
    "# Usando dict comprehensions !\n",
    "celsius_smart = {k:(5/9)*(v-32) for (k,v) in fahrenheit_dict.items()}\n",
    "print(fahrenheit_dict)\n",
    "print(celsius_smart)"
   ]
  },
  {
   "cell_type": "markdown",
   "metadata": {},
   "source": [
    "<div class=\"alert alert-success\">\n",
    "\n",
    "## Ejemplo 15.\n",
    "    \n",
    "Dado un diccionario, cuyos valores son enteros, crear un nuevo diccionario cuyos valores sean mayores que 2.\n",
    "</div>"
   ]
  },
  {
   "cell_type": "code",
   "execution_count": 76,
   "metadata": {},
   "outputs": [
    {
     "name": "stdout",
     "output_type": "stream",
     "text": [
      "{'a': 1, 'b': 2, 'c': 3, 'd': 4, 'e': 5, 'f': 6, 'g': 7, 'h': 8}\n",
      "{'c': 3, 'd': 4, 'e': 5, 'f': 6, 'g': 7, 'h': 8}\n"
     ]
    }
   ],
   "source": [
    "a_dict = {'a':1, 'b':2, 'c':3, 'd':4, 'e':5, 'f':6, 'g':7, 'h':8}\n",
    "print(a_dict)\n",
    "\n",
    "a_dict_cond = { k:v for (k,v) in a_dict.items() if v > 2 }\n",
    "print(a_dict_cond)"
   ]
  },
  {
   "cell_type": "markdown",
   "metadata": {},
   "source": [
    "<div class=\"alert alert-success\">\n",
    "\n",
    "## Ejemplo 16.\n",
    "    \n",
    "Dado un diccionario, cuyos valores son enteros, crear un nuevo diccionario cuyos valores sean mayores que 2 y que además sean pares.\n",
    "</div>"
   ]
  },
  {
   "cell_type": "code",
   "execution_count": 78,
   "metadata": {},
   "outputs": [
    {
     "name": "stdout",
     "output_type": "stream",
     "text": [
      "{'d': 4, 'f': 6, 'h': 8}\n"
     ]
    }
   ],
   "source": [
    "a_dict_cond2 = { k:v for (k,v) in a_dict.items() if (v > 2) and (v % 2) == 0}\n",
    "print(a_dict_cond2)"
   ]
  },
  {
   "cell_type": "markdown",
   "metadata": {},
   "source": [
    "<div class=\"alert alert-success\">\n",
    "\n",
    "## Ejemplo 17.\n",
    "    \n",
    "Dado un diccionario, cuyos valores son enteros, crear un nuevo diccionario cuyos valores sean mayores que 2 y que además sean pares y divisibles por 3.\n",
    "\n",
    "</div>"
   ]
  },
  {
   "cell_type": "code",
   "execution_count": 79,
   "metadata": {},
   "outputs": [
    {
     "name": "stdout",
     "output_type": "stream",
     "text": [
      "{'f': 6}\n"
     ]
    }
   ],
   "source": [
    "# La forma tradicional\n",
    "a_dict_cond3_loop = {}\n",
    "\n",
    "for (k,v) in a_dict.items():\n",
    "    if (v>=2 and v%2 == 0 and v%3 == 0):\n",
    "        a_dict_cond3_loop[k] = v\n",
    "\n",
    "print(a_dict_cond3_loop)"
   ]
  },
  {
   "cell_type": "code",
   "execution_count": 80,
   "metadata": {},
   "outputs": [
    {
     "name": "stdout",
     "output_type": "stream",
     "text": [
      "{'f': 6}\n"
     ]
    }
   ],
   "source": [
    "# Usando dict comprehensions\n",
    "a_dict_cond3 = {k:v for (k,v) in a_dict.items() if v>2 if v%2 == 0 if v%3 == 0}\n",
    "\n",
    "print(a_dict_cond3)"
   ]
  },
  {
   "cell_type": "markdown",
   "metadata": {},
   "source": [
    "<div class=\"alert alert-success\">\n",
    "\n",
    "## Ejemplo 18.\n",
    "    \n",
    "Apartir de un diccionario con valores enteros, identificar los valores pares y los impares, y sustituir los valores por etiquetas `par` e `impar` segun corresponda.\n",
    "</div>"
   ]
  },
  {
   "cell_type": "code",
   "execution_count": 81,
   "metadata": {},
   "outputs": [
    {
     "name": "stdout",
     "output_type": "stream",
     "text": [
      "{'a': 1, 'b': 2, 'c': 3, 'd': 4, 'e': 5, 'f': 6, 'g': 7, 'h': 8}\n",
      "{'a': 'impar', 'b': 'par', 'c': 'impar', 'd': 'par', 'e': 'impar', 'f': 'par', 'g': 'impar', 'h': 'par'}\n"
     ]
    }
   ],
   "source": [
    "print(a_dict)\n",
    "a_dict_else = { k:('par' if v%2==0 else 'impar') for (k,v) in a_dict.items()}\n",
    "print(a_dict_else)"
   ]
  },
  {
   "cell_type": "markdown",
   "metadata": {},
   "source": [
    "<div class=\"alert alert-success\">\n",
    "\n",
    "## Ejemplo 19.\n",
    "\n",
    "Dado el siguiente diccionario:\n",
    "\n",
    "```python\n",
    "adic = {'primero':{'a':1}, 'segundo':{'b':2}, 'tercero':{'c':3}}\n",
    "```\n",
    "\n",
    "Crear el siguiente nuevo diccionario:\n",
    "\n",
    "```python\n",
    "{'primero': {'a': 3.1415}, 'segundo': {'b': 6.283}, 'tercero': {'c': 9.4245}}\n",
    "```\n",
    "\n",
    "Observa que los valores de los diccionarios internos (`3.1415`, `6.283`, `9.4245`) se obtienen múltiplicando $3.1416$ por el valor de cada item de esos diccionarios.\n",
    "</div>\n"
   ]
  },
  {
   "cell_type": "code",
   "execution_count": 91,
   "metadata": {},
   "outputs": [
    {
     "name": "stdout",
     "output_type": "stream",
     "text": [
      "{'primero': {'a': 1}, 'segundo': {'b': 2}, 'tercero': {'c': 3}}\n",
      "{'primero': {'a': 3.1415}, 'segundo': {'b': 6.283}, 'tercero': {'c': 9.4245}}\n"
     ]
    }
   ],
   "source": [
    "# La forma tradicional sería:\n",
    "adic = {'primero':{'a':1}, 'segundo':{'b':2}, 'tercero':{'c':3}}\n",
    "print(adic)\n",
    "pi = 3.1415\n",
    "\n",
    "for (ek, ev) in adic.items():\n",
    "    for (ik, iv) in ev.items():\n",
    "        ev.update({ik: iv * pi})\n",
    "\n",
    "print(adic)"
   ]
  },
  {
   "cell_type": "code",
   "execution_count": 90,
   "metadata": {},
   "outputs": [
    {
     "name": "stdout",
     "output_type": "stream",
     "text": [
      "{'primero': {'a': 1}, 'segundo': {'b': 2}, 'tercero': {'c': 3}}\n",
      "{'primero': {'a': 3.1415}, 'segundo': {'b': 6.283}, 'tercero': {'c': 9.4245}}\n"
     ]
    }
   ],
   "source": [
    "# con dict comprehensions\n",
    "adic = {'primero':{'a':1}, 'segundo':{'b':2}, 'tercero':{'c':3}}\n",
    "pi = 3.1415\n",
    "bdic = {e_k:{i_k:i_v*pi for (i_k, i_v) in e_v.items()} for (e_k, e_v) in adic.items()}\n",
    "\n",
    "print(adic)\n",
    "print(bdic)"
   ]
  },
  {
   "cell_type": "markdown",
   "metadata": {},
   "source": [
    "<div class=\"alert alert-success\">\n",
    "\n",
    "## Ejemplo 20.\n",
    "    \n",
    "Es posible usar las listas y diccionarios concisos para revisar la lista de archivos de un directorio y sus características.\n",
    "</div>\n"
   ]
  },
  {
   "cell_type": "code",
   "execution_count": 112,
   "metadata": {},
   "outputs": [
    {
     "name": "stdout",
     "output_type": "stream",
     "text": [
      "('01_Funciones_y_ambitos.ipynb', os.stat_result(st_mode=33188, st_ino=2198630404, st_dev=1048666, st_nlink=1, st_uid=1000, st_gid=100, st_size=150749, st_atime=1728590587, st_mtime=1728590587, st_ctime=1728591516))\n",
      "\n",
      "('02_LambdaExpressions.ipynb', os.stat_result(st_mode=33188, st_ino=2198630405, st_dev=1048666, st_nlink=1, st_uid=1000, st_gid=100, st_size=16740, st_atime=1728590591, st_mtime=1728590591, st_ctime=1728591516))\n",
      "\n",
      "('03_Excepciones.ipynb', os.stat_result(st_mode=33188, st_ino=2198630406, st_dev=1048666, st_nlink=1, st_uid=1000, st_gid=100, st_size=34866, st_atime=1728591289, st_mtime=1728591289, st_ctime=1728591516))\n",
      "\n",
      "('T14_IteradoresGeneradores.ipynb', os.stat_result(st_mode=33188, st_ino=2198630409, st_dev=1048666, st_nlink=1, st_uid=1000, st_gid=100, st_size=17842, st_atime=1727816215, st_mtime=1716066758, st_ctime=1728591516))\n",
      "\n",
      "('T13_Comprehensions.ipynb', os.stat_result(st_mode=33188, st_ino=2198630408, st_dev=1048666, st_nlink=1, st_uid=1000, st_gid=100, st_size=44871, st_atime=1728606147, st_mtime=1728606147, st_ctime=1728606147))\n",
      "\n",
      "('zT08_Gestores_de_contexto.ipynb', os.stat_result(st_mode=33188, st_ino=2198630403, st_dev=1048666, st_nlink=1, st_uid=1000, st_gid=100, st_size=3121, st_atime=1728524981, st_mtime=1728409844, st_ctime=1728591516))\n",
      "\n",
      "('T15_Decoradores.ipynb', os.stat_result(st_mode=33188, st_ino=2198630410, st_dev=1048666, st_nlink=1, st_uid=1000, st_gid=100, st_size=20799, st_atime=1727816215, st_mtime=1716066758, st_ctime=1728591516))\n",
      "\n",
      "('04_IterablesMapFilterReduce.ipynb', os.stat_result(st_mode=33188, st_ino=2198630407, st_dev=1048666, st_nlink=1, st_uid=1000, st_gid=100, st_size=41864, st_atime=1728596691, st_mtime=1728596691, st_ctime=1728596691))\n",
      "\n"
     ]
    }
   ],
   "source": [
    "import os, glob\n",
    "metadata = [(f, os.stat(f)) for f in glob.glob('*.ipynb')]\n",
    "\n",
    "for i in metadata:\n",
    "    print(i, end=2*'\\n')"
   ]
  },
  {
   "cell_type": "code",
   "execution_count": 120,
   "metadata": {},
   "outputs": [],
   "source": [
    "metadata_dict = {f:os.stat(f) for f in glob.glob('*.ipynb')}"
   ]
  },
  {
   "cell_type": "code",
   "execution_count": 121,
   "metadata": {},
   "outputs": [
    {
     "name": "stdout",
     "output_type": "stream",
     "text": [
      "01_Funciones_y_ambitos.ipynb\n",
      "02_LambdaExpressions.ipynb\n",
      "03_Excepciones.ipynb\n",
      "T14_IteradoresGeneradores.ipynb\n",
      "zT08_Gestores_de_contexto.ipynb\n",
      "T15_Decoradores.ipynb\n",
      "04_IterablesMapFilterReduce.ipynb\n",
      "05_Comprehensions.ipynb\n"
     ]
    }
   ],
   "source": [
    "for i in metadata_dict.keys():\n",
    "    print(i)"
   ]
  },
  {
   "cell_type": "code",
   "execution_count": 122,
   "metadata": {},
   "outputs": [
    {
     "name": "stdout",
     "output_type": "stream",
     "text": [
      "os.stat_result(st_mode=33188, st_ino=2198630404, st_dev=1048666, st_nlink=1, st_uid=1000, st_gid=100, st_size=150749, st_atime=1728590587, st_mtime=1728590587, st_ctime=1728591516)\n",
      "\n",
      "os.stat_result(st_mode=33188, st_ino=2198630405, st_dev=1048666, st_nlink=1, st_uid=1000, st_gid=100, st_size=16740, st_atime=1728590591, st_mtime=1728590591, st_ctime=1728591516)\n",
      "\n",
      "os.stat_result(st_mode=33188, st_ino=2198630406, st_dev=1048666, st_nlink=1, st_uid=1000, st_gid=100, st_size=34866, st_atime=1728591289, st_mtime=1728591289, st_ctime=1728591516)\n",
      "\n",
      "os.stat_result(st_mode=33188, st_ino=2198630409, st_dev=1048666, st_nlink=1, st_uid=1000, st_gid=100, st_size=17842, st_atime=1727816215, st_mtime=1716066758, st_ctime=1728591516)\n",
      "\n",
      "os.stat_result(st_mode=33188, st_ino=2198630403, st_dev=1048666, st_nlink=1, st_uid=1000, st_gid=100, st_size=3121, st_atime=1728524981, st_mtime=1728409844, st_ctime=1728591516)\n",
      "\n",
      "os.stat_result(st_mode=33188, st_ino=2198630410, st_dev=1048666, st_nlink=1, st_uid=1000, st_gid=100, st_size=20799, st_atime=1727816215, st_mtime=1716066758, st_ctime=1728591516)\n",
      "\n",
      "os.stat_result(st_mode=33188, st_ino=2198630407, st_dev=1048666, st_nlink=1, st_uid=1000, st_gid=100, st_size=41864, st_atime=1728596691, st_mtime=1728596691, st_ctime=1728596691)\n",
      "\n",
      "os.stat_result(st_mode=33188, st_ino=2198630408, st_dev=1048666, st_nlink=1, st_uid=1000, st_gid=100, st_size=49899, st_atime=1728606388, st_mtime=1728606388, st_ctime=1728606391)\n",
      "\n"
     ]
    }
   ],
   "source": [
    "for i in metadata_dict.values():\n",
    "    print(i, end=2*'\\n')"
   ]
  },
  {
   "cell_type": "code",
   "execution_count": 123,
   "metadata": {},
   "outputs": [
    {
     "data": {
      "text/plain": [
       "49899"
      ]
     },
     "execution_count": 123,
     "metadata": {},
     "output_type": "execute_result"
    }
   ],
   "source": [
    "metadata_dict['05_Comprehensions.ipynb'].st_size"
   ]
  },
  {
   "cell_type": "markdown",
   "metadata": {},
   "source": [
    "# Mas ejemplos"
   ]
  },
  {
   "cell_type": "markdown",
   "metadata": {},
   "source": [
    "<div class=\"alert alert-success\">\n",
    "\n",
    "## Ejemplo 20.\n",
    "    \n",
    "Eliminar los números duplicados de la siguiente lista.\n",
    "\n",
    "```python\n",
    "[1, 2, 3, 4, 5, 6, 7, 8, 9, 10, 1, 2, 3, 4, 5]\n",
    "```\n",
    "</div>\n",
    "\n"
   ]
  },
  {
   "cell_type": "code",
   "execution_count": 124,
   "metadata": {},
   "outputs": [
    {
     "data": {
      "text/plain": [
       "[1, 2, 3, 4, 5, 6, 7, 8, 9, 10, 1, 2, 3, 4, 5]"
      ]
     },
     "execution_count": 124,
     "metadata": {},
     "output_type": "execute_result"
    }
   ],
   "source": [
    "numeros = [1, 2, 3, 4, 5, 6, 7, 8, 9, 10, 1, 2, 3, 4, 5]\n",
    "numeros"
   ]
  },
  {
   "cell_type": "code",
   "execution_count": 125,
   "metadata": {},
   "outputs": [
    {
     "data": {
      "text/plain": [
       "[1, 2, 3, 4, 5, 6, 7, 8, 9, 10]"
      ]
     },
     "execution_count": 125,
     "metadata": {},
     "output_type": "execute_result"
    }
   ],
   "source": [
    "# Una manera es:\n",
    "numeros_unicos = []\n",
    "for n in numeros:\n",
    "    if n not in numeros_unicos:\n",
    "        numeros_unicos.append(n)\n",
    "numeros_unicos"
   ]
  },
  {
   "cell_type": "code",
   "execution_count": 126,
   "metadata": {},
   "outputs": [
    {
     "data": {
      "text/plain": [
       "[1, 2, 3, 4, 5, 6, 7, 8, 9, 10]"
      ]
     },
     "execution_count": 126,
     "metadata": {},
     "output_type": "execute_result"
    }
   ],
   "source": [
    "# Otra forma mas pythonica!\n",
    "numeros_unicos_easy = list(set(numeros))\n",
    "numeros_unicos_easy"
   ]
  },
  {
   "cell_type": "markdown",
   "metadata": {},
   "source": [
    "<div class=\"alert alert-success\">\n",
    "\n",
    "## Ejemplo 21.\n",
    "    \n",
    "Eliminar objetos duplicados de una lista de diccionarios.\n",
    "</div>"
   ]
  },
  {
   "cell_type": "code",
   "execution_count": 127,
   "metadata": {},
   "outputs": [
    {
     "name": "stdout",
     "output_type": "stream",
     "text": [
      "[{'id': 10, 'nombre': 'luis', 'edad': 25}, {'id': 11, 'nombre': 'eva', 'edad': 34}, {'id': 12, 'nombre': 'gabo', 'edad': 53}, {'id': 13, 'nombre': 'rubén', 'edad': 27}, {'id': 14, 'nombre': 'juan', 'edad': 29}, {'id': 12, 'nombre': 'gabo', 'edad': 53}, {'id': 11, 'nombre': 'eva', 'edad': 34}, {'id': 12, 'nombre': 'gabo', 'edad': 53}, {'id': 13, 'nombre': 'rubén', 'edad': 27}, {'id': 14, 'nombre': 'juan', 'edad': 29}]\n"
     ]
    }
   ],
   "source": [
    "datos = [\n",
    "  {'id': 10, 'nombre': 'luis', 'edad':25},\n",
    "  {'id': 11, 'nombre': 'eva', 'edad':34},\n",
    "  {'id': 12, 'nombre': 'gabo', 'edad':53},\n",
    "  {'id': 13, 'nombre': 'rubén', 'edad':27},\n",
    "  {'id': 14, 'nombre': 'juan', 'edad':29},\n",
    "  {'id': 12, 'nombre': 'gabo', 'edad':53},\n",
    "  {'id': 11, 'nombre': 'eva', 'edad':34},\n",
    "  {'id': 12, 'nombre': 'gabo', 'edad':53},\n",
    "  {'id': 13, 'nombre': 'rubén', 'edad':27},\n",
    "  {'id': 14, 'nombre': 'juan', 'edad':29},\n",
    "]\n",
    "\n",
    "print(datos)"
   ]
  },
  {
   "cell_type": "code",
   "execution_count": 128,
   "metadata": {},
   "outputs": [
    {
     "name": "stdout",
     "output_type": "stream",
     "text": [
      "{'id': 10, 'nombre': 'luis', 'edad': 25}\n",
      "{'id': 11, 'nombre': 'eva', 'edad': 34}\n",
      "{'id': 12, 'nombre': 'gabo', 'edad': 53}\n",
      "{'id': 13, 'nombre': 'rubén', 'edad': 27}\n",
      "{'id': 14, 'nombre': 'juan', 'edad': 29}\n"
     ]
    }
   ],
   "source": [
    "# La forma tradicional\n",
    "objetos_unicos = []\n",
    "for d in datos:\n",
    "    dato_existe = False\n",
    "    for ou in objetos_unicos:\n",
    "        if ou['id'] == d['id']:\n",
    "          dato_existe = True\n",
    "          break\n",
    "    if not dato_existe:\n",
    "        objetos_unicos.append(d)\n",
    "\n",
    "for i in objetos_unicos:\n",
    "    print(i)"
   ]
  },
  {
   "cell_type": "code",
   "execution_count": 129,
   "metadata": {},
   "outputs": [
    {
     "name": "stdout",
     "output_type": "stream",
     "text": [
      "{'id': 10, 'nombre': 'luis', 'edad': 25}\n",
      "{'id': 11, 'nombre': 'eva', 'edad': 34}\n",
      "{'id': 12, 'nombre': 'gabo', 'edad': 53}\n",
      "{'id': 13, 'nombre': 'rubén', 'edad': 27}\n",
      "{'id': 14, 'nombre': 'juan', 'edad': 29}\n"
     ]
    }
   ],
   "source": [
    "# Una mejor manera.\n",
    "objetos_unicos_easy = { d['id']:d for d in datos }.values()\n",
    "\n",
    "for i in objetos_unicos_easy:\n",
    "    print(i)"
   ]
  },
  {
   "cell_type": "markdown",
   "metadata": {},
   "source": [
    "<div class=\"alert alert-success\">\n",
    "\n",
    "## Ejemplo 22.\n",
    "    \n",
    "Considera el siguiente diccionario:\n",
    "\n",
    "```python\n",
    "mcase = {'z':23, 'a':30, 'b':21, 'A':78, 'Z':4, 'C':43, 'B':89}\n",
    "```\n",
    "\n",
    "- Sumar los valores que corresponden a la misma letra, sin importar si es mayúscula o minúscula.\n",
    "\n",
    "- Construir un diccionario cuyas claves sean solo letras minúsculas y sus valores sean la suma antes calculada.\n",
    "\n",
    "</div>\n",
    "\n"
   ]
  },
  {
   "cell_type": "code",
   "execution_count": 130,
   "metadata": {},
   "outputs": [
    {
     "name": "stdout",
     "output_type": "stream",
     "text": [
      "{'z': 27, 'a': 108, 'b': 110, 'c': 43}\n"
     ]
    }
   ],
   "source": [
    "mcase = {'z':23, 'a':30, 'b':21, 'A':78, 'Z':4, 'C':43, 'B':89}\n",
    "mcase_freq = {k.lower() : \n",
    "              mcase.get(k.lower(), 0) + mcase.get(k.upper(), 0)\n",
    "              for k in mcase.keys()}\n",
    "print(mcase_freq)"
   ]
  },
  {
   "cell_type": "code",
   "execution_count": null,
   "metadata": {},
   "outputs": [],
   "source": []
  }
 ],
 "metadata": {
  "kernelspec": {
   "display_name": "Python 3 (ipykernel)",
   "language": "python",
   "name": "python3"
  },
  "language_info": {
   "codemirror_mode": {
    "name": "ipython",
    "version": 3
   },
   "file_extension": ".py",
   "mimetype": "text/x-python",
   "name": "python",
   "nbconvert_exporter": "python",
   "pygments_lexer": "ipython3",
   "version": "3.11.6"
  }
 },
 "nbformat": 4,
 "nbformat_minor": 4
}
